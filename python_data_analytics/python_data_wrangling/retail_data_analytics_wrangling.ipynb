{
 "cells": [
  {
   "cell_type": "markdown",
   "metadata": {},
   "source": [
    "# Retail Data Wrangling and Analytics"
   ]
  },
  {
   "cell_type": "code",
   "execution_count": 30,
   "metadata": {},
   "outputs": [],
   "source": [
    "# Import modules \n",
    "import pandas as pd\n",
    "%matplotlib inline\n",
    "import matplotlib.pyplot as plt\n",
    "import numpy as np"
   ]
  },
  {
   "cell_type": "code",
   "execution_count": 31,
   "metadata": {},
   "outputs": [],
   "source": [
    "from sqlalchemy import create_engine\n",
    "\n",
    "user = 'postgres'\n",
    "password = 'rocky1234'\n",
    "host = 'jrvs-psql'\n",
    "port = '5432'\n",
    "database = 'postgres'\n",
    "\n",
    "engine_string = f\"postgresql://{user}:{password}@{host}:{port}/{database}\"\n",
    "engine = create_engine(engine_string)\n"
   ]
  },
  {
   "cell_type": "code",
   "execution_count": 32,
   "metadata": {},
   "outputs": [
    {
     "data": {
      "text/html": [
       "<div>\n",
       "<style scoped>\n",
       "    .dataframe tbody tr th:only-of-type {\n",
       "        vertical-align: middle;\n",
       "    }\n",
       "\n",
       "    .dataframe tbody tr th {\n",
       "        vertical-align: top;\n",
       "    }\n",
       "\n",
       "    .dataframe thead th {\n",
       "        text-align: right;\n",
       "    }\n",
       "</style>\n",
       "<table border=\"1\" class=\"dataframe\">\n",
       "  <thead>\n",
       "    <tr style=\"text-align: right;\">\n",
       "      <th></th>\n",
       "      <th>invoice_no</th>\n",
       "      <th>stock_code</th>\n",
       "      <th>description</th>\n",
       "      <th>quantity</th>\n",
       "      <th>invoice_date</th>\n",
       "      <th>unit_price</th>\n",
       "      <th>customer_id</th>\n",
       "      <th>country</th>\n",
       "    </tr>\n",
       "  </thead>\n",
       "  <tbody>\n",
       "    <tr>\n",
       "      <th>0</th>\n",
       "      <td>489434</td>\n",
       "      <td>85048</td>\n",
       "      <td>15CM CHRISTMAS GLASS BALL 20 LIGHTS</td>\n",
       "      <td>12</td>\n",
       "      <td>2009-12-01 07:45:00</td>\n",
       "      <td>6.95</td>\n",
       "      <td>13085.0</td>\n",
       "      <td>United Kingdom</td>\n",
       "    </tr>\n",
       "    <tr>\n",
       "      <th>1</th>\n",
       "      <td>489434</td>\n",
       "      <td>79323P</td>\n",
       "      <td>PINK CHERRY LIGHTS</td>\n",
       "      <td>12</td>\n",
       "      <td>2009-12-01 07:45:00</td>\n",
       "      <td>6.75</td>\n",
       "      <td>13085.0</td>\n",
       "      <td>United Kingdom</td>\n",
       "    </tr>\n",
       "    <tr>\n",
       "      <th>2</th>\n",
       "      <td>489434</td>\n",
       "      <td>79323W</td>\n",
       "      <td>WHITE CHERRY LIGHTS</td>\n",
       "      <td>12</td>\n",
       "      <td>2009-12-01 07:45:00</td>\n",
       "      <td>6.75</td>\n",
       "      <td>13085.0</td>\n",
       "      <td>United Kingdom</td>\n",
       "    </tr>\n",
       "    <tr>\n",
       "      <th>3</th>\n",
       "      <td>489434</td>\n",
       "      <td>22041</td>\n",
       "      <td>RECORD FRAME 7\" SINGLE SIZE</td>\n",
       "      <td>48</td>\n",
       "      <td>2009-12-01 07:45:00</td>\n",
       "      <td>2.10</td>\n",
       "      <td>13085.0</td>\n",
       "      <td>United Kingdom</td>\n",
       "    </tr>\n",
       "    <tr>\n",
       "      <th>4</th>\n",
       "      <td>489434</td>\n",
       "      <td>21232</td>\n",
       "      <td>STRAWBERRY CERAMIC TRINKET BOX</td>\n",
       "      <td>24</td>\n",
       "      <td>2009-12-01 07:45:00</td>\n",
       "      <td>1.25</td>\n",
       "      <td>13085.0</td>\n",
       "      <td>United Kingdom</td>\n",
       "    </tr>\n",
       "  </tbody>\n",
       "</table>\n",
       "</div>"
      ],
      "text/plain": [
       "  invoice_no stock_code                          description  quantity  \\\n",
       "0     489434      85048  15CM CHRISTMAS GLASS BALL 20 LIGHTS        12   \n",
       "1     489434     79323P                   PINK CHERRY LIGHTS        12   \n",
       "2     489434     79323W                  WHITE CHERRY LIGHTS        12   \n",
       "3     489434      22041         RECORD FRAME 7\" SINGLE SIZE         48   \n",
       "4     489434      21232       STRAWBERRY CERAMIC TRINKET BOX        24   \n",
       "\n",
       "         invoice_date  unit_price  customer_id         country  \n",
       "0 2009-12-01 07:45:00        6.95      13085.0  United Kingdom  \n",
       "1 2009-12-01 07:45:00        6.75      13085.0  United Kingdom  \n",
       "2 2009-12-01 07:45:00        6.75      13085.0  United Kingdom  \n",
       "3 2009-12-01 07:45:00        2.10      13085.0  United Kingdom  \n",
       "4 2009-12-01 07:45:00        1.25      13085.0  United Kingdom  "
      ]
     },
     "execution_count": 32,
     "metadata": {},
     "output_type": "execute_result"
    }
   ],
   "source": [
    "import pandas as pd\n",
    "\n",
    "retail_df = pd.read_sql_table('retail', con=engine)\n",
    "retail_df.head()\n"
   ]
  },
  {
   "cell_type": "code",
   "execution_count": 33,
   "metadata": {},
   "outputs": [
    {
     "data": {
      "text/html": [
       "<div>\n",
       "<style scoped>\n",
       "    .dataframe tbody tr th:only-of-type {\n",
       "        vertical-align: middle;\n",
       "    }\n",
       "\n",
       "    .dataframe tbody tr th {\n",
       "        vertical-align: top;\n",
       "    }\n",
       "\n",
       "    .dataframe thead th {\n",
       "        text-align: right;\n",
       "    }\n",
       "</style>\n",
       "<table border=\"1\" class=\"dataframe\">\n",
       "  <thead>\n",
       "    <tr style=\"text-align: right;\">\n",
       "      <th></th>\n",
       "      <th>invoice_no</th>\n",
       "      <th>stock_code</th>\n",
       "      <th>description</th>\n",
       "      <th>quantity</th>\n",
       "      <th>invoice_date</th>\n",
       "      <th>unit_price</th>\n",
       "      <th>customer_id</th>\n",
       "      <th>country</th>\n",
       "    </tr>\n",
       "  </thead>\n",
       "  <tbody>\n",
       "    <tr>\n",
       "      <th>0</th>\n",
       "      <td>489434</td>\n",
       "      <td>85048</td>\n",
       "      <td>15CM CHRISTMAS GLASS BALL 20 LIGHTS</td>\n",
       "      <td>12</td>\n",
       "      <td>2009-12-01 07:45:00</td>\n",
       "      <td>6.95</td>\n",
       "      <td>13085.0</td>\n",
       "      <td>United Kingdom</td>\n",
       "    </tr>\n",
       "    <tr>\n",
       "      <th>1</th>\n",
       "      <td>489434</td>\n",
       "      <td>79323P</td>\n",
       "      <td>PINK CHERRY LIGHTS</td>\n",
       "      <td>12</td>\n",
       "      <td>2009-12-01 07:45:00</td>\n",
       "      <td>6.75</td>\n",
       "      <td>13085.0</td>\n",
       "      <td>United Kingdom</td>\n",
       "    </tr>\n",
       "    <tr>\n",
       "      <th>2</th>\n",
       "      <td>489434</td>\n",
       "      <td>79323W</td>\n",
       "      <td>WHITE CHERRY LIGHTS</td>\n",
       "      <td>12</td>\n",
       "      <td>2009-12-01 07:45:00</td>\n",
       "      <td>6.75</td>\n",
       "      <td>13085.0</td>\n",
       "      <td>United Kingdom</td>\n",
       "    </tr>\n",
       "    <tr>\n",
       "      <th>3</th>\n",
       "      <td>489434</td>\n",
       "      <td>22041</td>\n",
       "      <td>RECORD FRAME 7\" SINGLE SIZE</td>\n",
       "      <td>48</td>\n",
       "      <td>2009-12-01 07:45:00</td>\n",
       "      <td>2.10</td>\n",
       "      <td>13085.0</td>\n",
       "      <td>United Kingdom</td>\n",
       "    </tr>\n",
       "    <tr>\n",
       "      <th>4</th>\n",
       "      <td>489434</td>\n",
       "      <td>21232</td>\n",
       "      <td>STRAWBERRY CERAMIC TRINKET BOX</td>\n",
       "      <td>24</td>\n",
       "      <td>2009-12-01 07:45:00</td>\n",
       "      <td>1.25</td>\n",
       "      <td>13085.0</td>\n",
       "      <td>United Kingdom</td>\n",
       "    </tr>\n",
       "  </tbody>\n",
       "</table>\n",
       "</div>"
      ],
      "text/plain": [
       "  invoice_no stock_code                          description  quantity  \\\n",
       "0     489434      85048  15CM CHRISTMAS GLASS BALL 20 LIGHTS        12   \n",
       "1     489434     79323P                   PINK CHERRY LIGHTS        12   \n",
       "2     489434     79323W                  WHITE CHERRY LIGHTS        12   \n",
       "3     489434      22041         RECORD FRAME 7\" SINGLE SIZE         48   \n",
       "4     489434      21232       STRAWBERRY CERAMIC TRINKET BOX        24   \n",
       "\n",
       "         invoice_date  unit_price  customer_id         country  \n",
       "0 2009-12-01 07:45:00        6.95      13085.0  United Kingdom  \n",
       "1 2009-12-01 07:45:00        6.75      13085.0  United Kingdom  \n",
       "2 2009-12-01 07:45:00        6.75      13085.0  United Kingdom  \n",
       "3 2009-12-01 07:45:00        2.10      13085.0  United Kingdom  \n",
       "4 2009-12-01 07:45:00        1.25      13085.0  United Kingdom  "
      ]
     },
     "execution_count": 33,
     "metadata": {},
     "output_type": "execute_result"
    }
   ],
   "source": [
    "retail_df = pd.read_sql_query('SELECT * FROM retail;', con=engine)\n",
    "retail_df.head()\n"
   ]
  },
  {
   "cell_type": "code",
   "execution_count": 34,
   "metadata": {},
   "outputs": [
    {
     "name": "stdout",
     "output_type": "stream",
     "text": [
      "<class 'pandas.core.frame.DataFrame'>\n",
      "RangeIndex: 1067371 entries, 0 to 1067370\n",
      "Data columns (total 8 columns):\n",
      " #   Column        Non-Null Count    Dtype         \n",
      "---  ------        --------------    -----         \n",
      " 0   invoice_no    1067371 non-null  object        \n",
      " 1   stock_code    1067371 non-null  object        \n",
      " 2   description   1062989 non-null  object        \n",
      " 3   quantity      1067371 non-null  int64         \n",
      " 4   invoice_date  1067371 non-null  datetime64[ns]\n",
      " 5   unit_price    1067371 non-null  float64       \n",
      " 6   customer_id   824364 non-null   float64       \n",
      " 7   country       1067371 non-null  object        \n",
      "dtypes: datetime64[ns](1), float64(2), int64(1), object(4)\n",
      "memory usage: 65.1+ MB\n"
     ]
    },
    {
     "data": {
      "text/html": [
       "<div>\n",
       "<style scoped>\n",
       "    .dataframe tbody tr th:only-of-type {\n",
       "        vertical-align: middle;\n",
       "    }\n",
       "\n",
       "    .dataframe tbody tr th {\n",
       "        vertical-align: top;\n",
       "    }\n",
       "\n",
       "    .dataframe thead th {\n",
       "        text-align: right;\n",
       "    }\n",
       "</style>\n",
       "<table border=\"1\" class=\"dataframe\">\n",
       "  <thead>\n",
       "    <tr style=\"text-align: right;\">\n",
       "      <th></th>\n",
       "      <th>invoice_no</th>\n",
       "      <th>stock_code</th>\n",
       "      <th>description</th>\n",
       "      <th>quantity</th>\n",
       "      <th>invoice_date</th>\n",
       "      <th>unit_price</th>\n",
       "      <th>customer_id</th>\n",
       "      <th>country</th>\n",
       "    </tr>\n",
       "  </thead>\n",
       "  <tbody>\n",
       "    <tr>\n",
       "      <th>444328</th>\n",
       "      <td>531756</td>\n",
       "      <td>21679</td>\n",
       "      <td>SKULLS  STICKERS</td>\n",
       "      <td>6</td>\n",
       "      <td>2010-11-09 13:24:00</td>\n",
       "      <td>0.85</td>\n",
       "      <td>17983.0</td>\n",
       "      <td>United Kingdom</td>\n",
       "    </tr>\n",
       "    <tr>\n",
       "      <th>737484</th>\n",
       "      <td>555406</td>\n",
       "      <td>48138</td>\n",
       "      <td>DOORMAT UNION FLAG</td>\n",
       "      <td>2</td>\n",
       "      <td>2011-06-02 19:50:00</td>\n",
       "      <td>7.95</td>\n",
       "      <td>17231.0</td>\n",
       "      <td>United Kingdom</td>\n",
       "    </tr>\n",
       "    <tr>\n",
       "      <th>85396</th>\n",
       "      <td>497353</td>\n",
       "      <td>22148</td>\n",
       "      <td>EASTER CRAFT 4 CHICKS</td>\n",
       "      <td>1</td>\n",
       "      <td>2010-02-08 16:48:00</td>\n",
       "      <td>4.21</td>\n",
       "      <td>NaN</td>\n",
       "      <td>United Kingdom</td>\n",
       "    </tr>\n",
       "    <tr>\n",
       "      <th>144907</th>\n",
       "      <td>503181</td>\n",
       "      <td>22171</td>\n",
       "      <td>3 HOOK PHOTO SHELF ANTIQUE WHITE</td>\n",
       "      <td>2</td>\n",
       "      <td>2010-03-30 14:23:00</td>\n",
       "      <td>8.50</td>\n",
       "      <td>14492.0</td>\n",
       "      <td>United Kingdom</td>\n",
       "    </tr>\n",
       "    <tr>\n",
       "      <th>430456</th>\n",
       "      <td>530510</td>\n",
       "      <td>20871</td>\n",
       "      <td>OPULENT VELVET SET/3 CANDLES</td>\n",
       "      <td>6</td>\n",
       "      <td>2010-11-03 12:11:00</td>\n",
       "      <td>2.10</td>\n",
       "      <td>15281.0</td>\n",
       "      <td>United Kingdom</td>\n",
       "    </tr>\n",
       "    <tr>\n",
       "      <th>827043</th>\n",
       "      <td>563348</td>\n",
       "      <td>22726</td>\n",
       "      <td>ALARM CLOCK BAKELIKE GREEN</td>\n",
       "      <td>8</td>\n",
       "      <td>2011-08-15 13:48:00</td>\n",
       "      <td>3.75</td>\n",
       "      <td>13078.0</td>\n",
       "      <td>United Kingdom</td>\n",
       "    </tr>\n",
       "    <tr>\n",
       "      <th>597468</th>\n",
       "      <td>542225</td>\n",
       "      <td>85096</td>\n",
       "      <td>label mix up</td>\n",
       "      <td>-59</td>\n",
       "      <td>2011-01-26 13:10:00</td>\n",
       "      <td>0.00</td>\n",
       "      <td>NaN</td>\n",
       "      <td>United Kingdom</td>\n",
       "    </tr>\n",
       "    <tr>\n",
       "      <th>170225</th>\n",
       "      <td>505523</td>\n",
       "      <td>21340</td>\n",
       "      <td>CLASSIC METAL BIRDCAGE PLANT HOLDER</td>\n",
       "      <td>8</td>\n",
       "      <td>2010-04-22 16:12:00</td>\n",
       "      <td>9.95</td>\n",
       "      <td>15093.0</td>\n",
       "      <td>United Kingdom</td>\n",
       "    </tr>\n",
       "    <tr>\n",
       "      <th>913286</th>\n",
       "      <td>570388</td>\n",
       "      <td>23408</td>\n",
       "      <td>PHOTO FRAME LINEN AND LACE SMALL</td>\n",
       "      <td>6</td>\n",
       "      <td>2011-10-10 12:37:00</td>\n",
       "      <td>2.08</td>\n",
       "      <td>14911.0</td>\n",
       "      <td>EIRE</td>\n",
       "    </tr>\n",
       "    <tr>\n",
       "      <th>326328</th>\n",
       "      <td>521202</td>\n",
       "      <td>21035</td>\n",
       "      <td>SET/2 RED SPOTTY TEA TOWELS</td>\n",
       "      <td>1</td>\n",
       "      <td>2010-09-02 17:52:00</td>\n",
       "      <td>5.91</td>\n",
       "      <td>NaN</td>\n",
       "      <td>United Kingdom</td>\n",
       "    </tr>\n",
       "  </tbody>\n",
       "</table>\n",
       "</div>"
      ],
      "text/plain": [
       "       invoice_no stock_code                          description  quantity  \\\n",
       "444328     531756      21679                     SKULLS  STICKERS         6   \n",
       "737484     555406      48138                   DOORMAT UNION FLAG         2   \n",
       "85396      497353      22148               EASTER CRAFT 4 CHICKS          1   \n",
       "144907     503181      22171     3 HOOK PHOTO SHELF ANTIQUE WHITE         2   \n",
       "430456     530510      20871         OPULENT VELVET SET/3 CANDLES         6   \n",
       "827043     563348      22726           ALARM CLOCK BAKELIKE GREEN         8   \n",
       "597468     542225      85096                         label mix up       -59   \n",
       "170225     505523      21340  CLASSIC METAL BIRDCAGE PLANT HOLDER         8   \n",
       "913286     570388      23408     PHOTO FRAME LINEN AND LACE SMALL         6   \n",
       "326328     521202      21035         SET/2 RED SPOTTY TEA TOWELS          1   \n",
       "\n",
       "              invoice_date  unit_price  customer_id         country  \n",
       "444328 2010-11-09 13:24:00        0.85      17983.0  United Kingdom  \n",
       "737484 2011-06-02 19:50:00        7.95      17231.0  United Kingdom  \n",
       "85396  2010-02-08 16:48:00        4.21          NaN  United Kingdom  \n",
       "144907 2010-03-30 14:23:00        8.50      14492.0  United Kingdom  \n",
       "430456 2010-11-03 12:11:00        2.10      15281.0  United Kingdom  \n",
       "827043 2011-08-15 13:48:00        3.75      13078.0  United Kingdom  \n",
       "597468 2011-01-26 13:10:00        0.00          NaN  United Kingdom  \n",
       "170225 2010-04-22 16:12:00        9.95      15093.0  United Kingdom  \n",
       "913286 2011-10-10 12:37:00        2.08      14911.0            EIRE  \n",
       "326328 2010-09-02 17:52:00        5.91          NaN  United Kingdom  "
      ]
     },
     "execution_count": 34,
     "metadata": {},
     "output_type": "execute_result"
    }
   ],
   "source": [
    "retail_df.info()      # Overview of columns, data types, and null counts\n",
    "retail_df.head(10)    # First 10 rows for a quick peek\n",
    "retail_df.describe()  # Statistical summary of numeric columns\n",
    "retail_df.sample(10)  # Random 10 rows to check variety\n"
   ]
  },
  {
   "cell_type": "code",
   "execution_count": 3,
   "metadata": {
    "tags": []
   },
   "outputs": [
    {
     "name": "stdout",
     "output_type": "stream",
     "text": [
      "Collecting psycopg2-binary\n",
      "  Downloading psycopg2_binary-2.9.10-cp38-cp38-manylinux_2_17_x86_64.manylinux2014_x86_64.whl (3.0 MB)\n",
      "\u001b[K     |████████████████████████████████| 3.0 MB 6.0 MB/s eta 0:00:01:01\n",
      "\u001b[?25hInstalling collected packages: psycopg2-binary\n",
      "Successfully installed psycopg2-binary-2.9.10\n"
     ]
    }
   ],
   "source": [
    "#install psql \"driver\"\n",
    "!pip3 install psycopg2-binary"
   ]
  },
  {
   "cell_type": "code",
   "execution_count": 35,
   "metadata": {},
   "outputs": [
    {
     "name": "stdout",
     "output_type": "stream",
     "text": [
      "invoice_no           0\n",
      "stock_code           0\n",
      "description       4382\n",
      "quantity             0\n",
      "invoice_date         0\n",
      "unit_price           0\n",
      "customer_id     243007\n",
      "country              0\n",
      "dtype: int64\n"
     ]
    }
   ],
   "source": [
    "# Example of renaming columns to snake_case\n",
    "retail_df.columns = [col.lower().replace(' ', '_') for col in retail_df.columns]\n",
    "\n",
    "# Convert invoice date to datetime\n",
    "retail_df['invoice_date'] = pd.to_datetime(retail_df['invoice_date'])\n",
    "\n",
    "# Check for nulls\n",
    "print(retail_df.isnull().sum())\n"
   ]
  },
  {
   "cell_type": "markdown",
   "metadata": {},
   "source": [
    "# Total Invoice Amount Distribution"
   ]
  },
  {
   "cell_type": "code",
   "execution_count": 38,
   "metadata": {},
   "outputs": [
    {
     "name": "stdout",
     "output_type": "stream",
     "text": [
      "['invoice_no', 'stock_code', 'description', 'quantity', 'invoice_date', 'unit_price', 'customer_id', 'country', 'item_total']\n"
     ]
    }
   ],
   "source": [
    "print(retail_df.columns.tolist())\n"
   ]
  },
  {
   "cell_type": "code",
   "execution_count": 39,
   "metadata": {},
   "outputs": [
    {
     "data": {
      "text/html": [
       "<div>\n",
       "<style scoped>\n",
       "    .dataframe tbody tr th:only-of-type {\n",
       "        vertical-align: middle;\n",
       "    }\n",
       "\n",
       "    .dataframe tbody tr th {\n",
       "        vertical-align: top;\n",
       "    }\n",
       "\n",
       "    .dataframe thead th {\n",
       "        text-align: right;\n",
       "    }\n",
       "</style>\n",
       "<table border=\"1\" class=\"dataframe\">\n",
       "  <thead>\n",
       "    <tr style=\"text-align: right;\">\n",
       "      <th></th>\n",
       "      <th>invoice_no</th>\n",
       "      <th>invoice_amount</th>\n",
       "    </tr>\n",
       "  </thead>\n",
       "  <tbody>\n",
       "    <tr>\n",
       "      <th>0</th>\n",
       "      <td>489434</td>\n",
       "      <td>505.30</td>\n",
       "    </tr>\n",
       "    <tr>\n",
       "      <th>1</th>\n",
       "      <td>489435</td>\n",
       "      <td>145.80</td>\n",
       "    </tr>\n",
       "    <tr>\n",
       "      <th>2</th>\n",
       "      <td>489436</td>\n",
       "      <td>630.33</td>\n",
       "    </tr>\n",
       "    <tr>\n",
       "      <th>3</th>\n",
       "      <td>489437</td>\n",
       "      <td>310.75</td>\n",
       "    </tr>\n",
       "    <tr>\n",
       "      <th>4</th>\n",
       "      <td>489438</td>\n",
       "      <td>2286.24</td>\n",
       "    </tr>\n",
       "  </tbody>\n",
       "</table>\n",
       "</div>"
      ],
      "text/plain": [
       "  invoice_no  invoice_amount\n",
       "0     489434          505.30\n",
       "1     489435          145.80\n",
       "2     489436          630.33\n",
       "3     489437          310.75\n",
       "4     489438         2286.24"
      ]
     },
     "execution_count": 39,
     "metadata": {},
     "output_type": "execute_result"
    }
   ],
   "source": [
    "retail_df['item_total'] = retail_df['quantity'] * retail_df['unit_price']\n",
    "invoice_amount_df = retail_df.groupby('invoice_no')['item_total'].sum().reset_index()\n",
    "invoice_amount_df.rename(columns={'item_total': 'invoice_amount'}, inplace=True)\n",
    "invoice_amount_df.head()\n"
   ]
  },
  {
   "cell_type": "markdown",
   "metadata": {},
   "source": [
    "# Monthly Placed and Canceled Orders"
   ]
  },
  {
   "cell_type": "code",
   "execution_count": 40,
   "metadata": {},
   "outputs": [],
   "source": [
    "retail_df['year_month'] = retail_df['invoice_date'].dt.strftime('%Y%m').astype(int)\n"
   ]
  },
  {
   "cell_type": "code",
   "execution_count": 41,
   "metadata": {},
   "outputs": [],
   "source": [
    "# Filter canceled orders (negative quantity)\n",
    "canceled_orders = retail_df[retail_df['quantity'] < 0]\n"
   ]
  },
  {
   "cell_type": "code",
   "execution_count": 42,
   "metadata": {},
   "outputs": [],
   "source": [
    "total_orders_per_month = retail_df.groupby('year_month')['invoice_no'].nunique()\n",
    "canceled_orders_per_month = canceled_orders.groupby('year_month')['invoice_no'].nunique()\n"
   ]
  },
  {
   "cell_type": "code",
   "execution_count": 43,
   "metadata": {},
   "outputs": [],
   "source": [
    "placed_orders = total_orders_per_month - 2 * canceled_orders_per_month\n",
    "placed_orders = placed_orders.fillna(total_orders_per_month)  # Handle months with zero canceled orders\n"
   ]
  },
  {
   "cell_type": "code",
   "execution_count": 44,
   "metadata": {},
   "outputs": [
    {
     "data": {
      "image/png": "[encoded data removed]",
      "text/plain": [
       "<Figure size 864x432 with 1 Axes>"
      ]
     },
     "metadata": {
      "needs_background": "light"
     },
     "output_type": "display_data"
    }
   ],
   "source": [
    "import matplotlib.pyplot as plt\n",
    "\n",
    "plt.figure(figsize=(12, 6))\n",
    "plt.plot(total_orders_per_month.index, total_orders_per_month, label='Total Orders')\n",
    "plt.plot(canceled_orders_per_month.index, canceled_orders_per_month, label='Canceled Orders')\n",
    "plt.plot(placed_orders.index, placed_orders, label='Placed Orders')\n",
    "\n",
    "plt.xlabel('YearMonth')\n",
    "plt.ylabel('Number of Orders')\n",
    "plt.title('Monthly Placed, Canceled and Total Orders')\n",
    "plt.legend()\n",
    "plt.xticks(rotation=45)\n",
    "plt.show()\n"
   ]
  },
  {
   "cell_type": "markdown",
   "metadata": {},
   "source": [
    "# Monthly Sales"
   ]
  },
  {
   "cell_type": "code",
   "execution_count": 45,
   "metadata": {},
   "outputs": [],
   "source": [
    "retail_df['year_month'] = retail_df['invoice_date'].dt.strftime('%Y%m').astype(int)\n"
   ]
  },
  {
   "cell_type": "code",
   "execution_count": 46,
   "metadata": {},
   "outputs": [],
   "source": [
    "retail_df['item_total'] = retail_df['quantity'] * retail_df['unit_price']\n"
   ]
  },
  {
   "cell_type": "code",
   "execution_count": 47,
   "metadata": {},
   "outputs": [],
   "source": [
    "monthly_sales = retail_df.groupby('year_month')['item_total'].sum().reset_index()\n"
   ]
  },
  {
   "cell_type": "code",
   "execution_count": 48,
   "metadata": {},
   "outputs": [
    {
     "data": {
      "image/png": "[encoded data removed]",
      "text/plain": [
       "<Figure size 864x432 with 1 Axes>"
      ]
     },
     "metadata": {
      "needs_background": "light"
     },
     "output_type": "display_data"
    }
   ],
   "source": [
    "import matplotlib.pyplot as plt\n",
    "\n",
    "plt.figure(figsize=(12,6))\n",
    "plt.plot(monthly_sales['year_month'], monthly_sales['item_total'], marker='o')\n",
    "plt.title('Monthly Sales Amount')\n",
    "plt.xlabel('YearMonth')\n",
    "plt.ylabel('Sales Amount')\n",
    "plt.xticks(rotation=45)\n",
    "plt.grid(True)\n",
    "plt.show()\n"
   ]
  },
  {
   "cell_type": "markdown",
   "metadata": {},
   "source": [
    "# Monthly Sales Growth\n"
   ]
  },
  {
   "cell_type": "code",
   "execution_count": 49,
   "metadata": {},
   "outputs": [],
   "source": [
    "monthly_sales['pct_growth'] = monthly_sales['item_total'].pct_change() * 100\n"
   ]
  },
  {
   "cell_type": "code",
   "execution_count": 50,
   "metadata": {},
   "outputs": [
    {
     "data": {
      "image/png": "[encoded data removed]",
      "text/plain": [
       "<Figure size 864x432 with 1 Axes>"
      ]
     },
     "metadata": {
      "needs_background": "light"
     },
     "output_type": "display_data"
    }
   ],
   "source": [
    "import matplotlib.pyplot as plt\n",
    "\n",
    "plt.figure(figsize=(12,6))\n",
    "plt.plot(monthly_sales['year_month'], monthly_sales['pct_growth'], marker='o', color='orange')\n",
    "plt.title('Monthly Sales Percentage Growth')\n",
    "plt.xlabel('YearMonth')\n",
    "plt.ylabel('Growth Percentage (%)')\n",
    "plt.xticks(rotation=45)\n",
    "plt.grid(True)\n",
    "plt.show()\n"
   ]
  },
  {
   "cell_type": "markdown",
   "metadata": {},
   "source": [
    "# Monthly Active Users"
   ]
  },
  {
   "cell_type": "code",
   "execution_count": 51,
   "metadata": {},
   "outputs": [],
   "source": [
    "retail_df['year_month'] = retail_df['invoice_date'].dt.strftime('%Y%m').astype(int)\n",
    "monthly_active_users = retail_df.groupby('year_month')['customer_id'].nunique().reset_index()\n",
    "monthly_active_users.rename(columns={'customer_id': 'active_users'}, inplace=True)\n",
    "\n"
   ]
  },
  {
   "cell_type": "code",
   "execution_count": 52,
   "metadata": {},
   "outputs": [
    {
     "data": {
      "image/png": "[encoded data removed]",
      "text/plain": [
       "<Figure size 864x432 with 1 Axes>"
      ]
     },
     "metadata": {
      "needs_background": "light"
     },
     "output_type": "display_data"
    }
   ],
   "source": [
    "import matplotlib.pyplot as plt\n",
    "\n",
    "plt.figure(figsize=(12,6))\n",
    "plt.bar(monthly_active_users['year_month'].astype(str), monthly_active_users['active_users'], color='skyblue')\n",
    "plt.title('Monthly Active Users')\n",
    "plt.xlabel('YearMonth')\n",
    "plt.ylabel('Number of Active Users')\n",
    "plt.xticks(rotation=45)\n",
    "plt.grid(axis='y')\n",
    "plt.show()\n"
   ]
  },
  {
   "cell_type": "markdown",
   "metadata": {},
   "source": [
    "# New and Existing Users\n",
    "\n"
   ]
  },
  {
   "cell_type": "code",
   "execution_count": 53,
   "metadata": {},
   "outputs": [],
   "source": [
    "first_purchase = retail_df.groupby('customer_id')['year_month'].min().reset_index()\n",
    "first_purchase.rename(columns={'year_month': 'first_purchase_month'}, inplace=True)\n",
    "retail_with_first = retail_df.merge(first_purchase, on='customer_id', how='left')\n",
    "retail_with_first['user_type'] = retail_with_first.apply(\n",
    "    lambda row: 'New' if row['year_month'] == row['first_purchase_month'] else 'Existing',\n",
    "    axis=1\n",
    ")\n",
    "monthly_users = retail_with_first.groupby(['year_month', 'user_type'])['customer_id'].nunique().reset_index()\n",
    "monthly_users_pivot = monthly_users.pivot(index='year_month', columns='user_type', values='customer_id').fillna(0)\n",
    "\n",
    "\n",
    "\n"
   ]
  },
  {
   "cell_type": "code",
   "execution_count": 54,
   "metadata": {},
   "outputs": [
    {
     "data": {
      "image/png": "[encoded data removed]",
      "text/plain": [
       "<Figure size 864x432 with 1 Axes>"
      ]
     },
     "metadata": {
      "needs_background": "light"
     },
     "output_type": "display_data"
    }
   ],
   "source": [
    "monthly_users_pivot.plot(kind='bar', stacked=True, figsize=(12,6), color=['green', 'blue'])\n",
    "plt.title('New vs Existing Users per Month')\n",
    "plt.xlabel('YearMonth')\n",
    "plt.ylabel('Number of Users')\n",
    "plt.xticks(rotation=45)\n",
    "plt.legend(title='User Type')\n",
    "plt.show()\n"
   ]
  },
  {
   "cell_type": "markdown",
   "metadata": {},
   "source": [
    "## Finding RFM\n",
    "\n",
    "RFM is a method used for analyzing customer value. It is commonly used in database marketing and direct marketing and has received particular attention in the retail and professional services industries. ([wikipedia](https://en.wikipedia.org/wiki/RFM_(market_research)))\n",
    "\n",
    "Optional Reading: [Making Your Database Pay Off Using Recency Frequency and Monetary Analysis](http://www.dbmarketing.com/2010/03/making-your-database-pay-off-using-recency-frequency-and-monetary-analysis/)\n",
    "\n",
    "\n",
    "RFM stands for three dimensions:\n",
    "\n",
    "- Recency – How recently did the customer purchase?\n",
    "\n",
    "- Frequency – How often do they purchase?\n",
    "\n",
    "- Monetary Value – How much do they spend?\n",
    "\n",
    "Note: To simplify the problem, let's keep all placed and canceled orders.\n",
    "\n",
    "\n",
    "**Sample RFM table**\n",
    "\n",
    "![](https://i.imgur.com/sXFIg6u.jpg)"
   ]
  },
  {
   "cell_type": "code",
   "execution_count": 55,
   "metadata": {},
   "outputs": [],
   "source": [
    "import pandas as pd\n",
    "\n",
    "# Assuming invoice_date is datetime type, if not convert it first:\n",
    "retail_df['invoice_date'] = pd.to_datetime(retail_df['invoice_date'])\n",
    "\n",
    "# Define a reference date for recency (can be max invoice date + 1 day or today's date)\n",
    "reference_date = retail_df['invoice_date'].max() + pd.Timedelta(days=1)\n"
   ]
  },
  {
   "cell_type": "code",
   "execution_count": 56,
   "metadata": {},
   "outputs": [],
   "source": [
    "# Aggregate per customer\n",
    "rfm_df = retail_df.groupby('customer_id').agg({\n",
    "    'invoice_date': lambda x: (reference_date - x.max()).days,  # Recency: days since last purchase\n",
    "    'invoice_no': 'nunique',                                   # Frequency: number of unique invoices\n",
    "    'item_total': 'sum'                                        # Monetary: total spent\n",
    "}).reset_index()\n",
    "\n",
    "rfm_df.rename(columns={\n",
    "    'invoice_date': 'Recency',\n",
    "    'invoice_no': 'Frequency',\n",
    "    'item_total': 'Monetary'\n",
    "}, inplace=True)\n"
   ]
  },
  {
   "cell_type": "code",
   "execution_count": 57,
   "metadata": {},
   "outputs": [
    {
     "data": {
      "text/html": [
       "<div>\n",
       "<style scoped>\n",
       "    .dataframe tbody tr th:only-of-type {\n",
       "        vertical-align: middle;\n",
       "    }\n",
       "\n",
       "    .dataframe tbody tr th {\n",
       "        vertical-align: top;\n",
       "    }\n",
       "\n",
       "    .dataframe thead th {\n",
       "        text-align: right;\n",
       "    }\n",
       "</style>\n",
       "<table border=\"1\" class=\"dataframe\">\n",
       "  <thead>\n",
       "    <tr style=\"text-align: right;\">\n",
       "      <th></th>\n",
       "      <th>customer_id</th>\n",
       "      <th>Recency</th>\n",
       "      <th>Frequency</th>\n",
       "      <th>Monetary</th>\n",
       "    </tr>\n",
       "  </thead>\n",
       "  <tbody>\n",
       "    <tr>\n",
       "      <th>0</th>\n",
       "      <td>12346.0</td>\n",
       "      <td>326</td>\n",
       "      <td>17</td>\n",
       "      <td>-64.68</td>\n",
       "    </tr>\n",
       "    <tr>\n",
       "      <th>1</th>\n",
       "      <td>12347.0</td>\n",
       "      <td>2</td>\n",
       "      <td>8</td>\n",
       "      <td>5633.32</td>\n",
       "    </tr>\n",
       "    <tr>\n",
       "      <th>2</th>\n",
       "      <td>12348.0</td>\n",
       "      <td>75</td>\n",
       "      <td>5</td>\n",
       "      <td>2019.40</td>\n",
       "    </tr>\n",
       "    <tr>\n",
       "      <th>3</th>\n",
       "      <td>12349.0</td>\n",
       "      <td>19</td>\n",
       "      <td>5</td>\n",
       "      <td>4404.54</td>\n",
       "    </tr>\n",
       "    <tr>\n",
       "      <th>4</th>\n",
       "      <td>12350.0</td>\n",
       "      <td>310</td>\n",
       "      <td>1</td>\n",
       "      <td>334.40</td>\n",
       "    </tr>\n",
       "  </tbody>\n",
       "</table>\n",
       "</div>"
      ],
      "text/plain": [
       "   customer_id  Recency  Frequency  Monetary\n",
       "0      12346.0      326         17    -64.68\n",
       "1      12347.0        2          8   5633.32\n",
       "2      12348.0       75          5   2019.40\n",
       "3      12349.0       19          5   4404.54\n",
       "4      12350.0      310          1    334.40"
      ]
     },
     "execution_count": 57,
     "metadata": {},
     "output_type": "execute_result"
    }
   ],
   "source": [
    "rfm_df.head()\n"
   ]
  },
  {
   "cell_type": "markdown",
   "metadata": {},
   "source": [
    "# RFM Segmentation"
   ]
  },
  {
   "cell_type": "code",
   "execution_count": 58,
   "metadata": {},
   "outputs": [],
   "source": [
    "# Recency score: invert scale since lower recency = better\n",
    "rfm_df['R_Score'] = pd.qcut(rfm_df['Recency'], 5, labels=[5,4,3,2,1]).astype(int)\n",
    "\n",
    "# Frequency score: higher is better\n",
    "rfm_df['F_Score'] = pd.qcut(rfm_df['Frequency'].rank(method='first'), 5, labels=[1,2,3,4,5]).astype(int)\n",
    "\n",
    "# Monetary score: higher is better\n",
    "rfm_df['M_Score'] = pd.qcut(rfm_df['Monetary'], 5, labels=[1,2,3,4,5]).astype(int)\n"
   ]
  },
  {
   "cell_type": "code",
   "execution_count": 59,
   "metadata": {},
   "outputs": [],
   "source": [
    "# Combine scores as strings\n",
    "rfm_df['RFM_Segment'] = rfm_df['R_Score'].astype(str) + rfm_df['F_Score'].astype(str) + rfm_df['M_Score'].astype(str)\n",
    "\n",
    "# Calculate total score (sum of R, F, and M scores)\n",
    "rfm_df['RFM_Score'] = rfm_df[['R_Score', 'F_Score', 'M_Score']].sum(axis=1)\n"
   ]
  },
  {
   "cell_type": "code",
   "execution_count": 60,
   "metadata": {},
   "outputs": [],
   "source": [
    "def rfm_segment(x):\n",
    "    if x >= 9:\n",
    "        return 'Champions'\n",
    "    elif x >= 8:\n",
    "        return 'Loyal Customers'\n",
    "    elif x >= 7:\n",
    "        return 'Potential Loyalist'\n",
    "    elif x >= 6:\n",
    "        return 'Recent Customers'\n",
    "    elif x >= 5:\n",
    "        return 'Promising'\n",
    "    elif x >= 4:\n",
    "        return 'Needs Attention'\n",
    "    elif x >= 3:\n",
    "        return 'About To Sleep'\n",
    "    elif x >= 2:\n",
    "        return 'At Risk'\n",
    "    else:\n",
    "        return 'Hibernating'\n",
    "\n",
    "rfm_df['Segment'] = rfm_df['RFM_Score'].apply(rfm_segment)\n"
   ]
  },
  {
   "cell_type": "code",
   "execution_count": 61,
   "metadata": {},
   "outputs": [
    {
     "data": {
      "text/html": [
       "<div>\n",
       "<style scoped>\n",
       "    .dataframe tbody tr th:only-of-type {\n",
       "        vertical-align: middle;\n",
       "    }\n",
       "\n",
       "    .dataframe tbody tr th {\n",
       "        vertical-align: top;\n",
       "    }\n",
       "\n",
       "    .dataframe thead th {\n",
       "        text-align: right;\n",
       "    }\n",
       "</style>\n",
       "<table border=\"1\" class=\"dataframe\">\n",
       "  <thead>\n",
       "    <tr style=\"text-align: right;\">\n",
       "      <th></th>\n",
       "      <th>customer_id</th>\n",
       "      <th>Recency</th>\n",
       "      <th>Frequency</th>\n",
       "      <th>Monetary</th>\n",
       "      <th>RFM_Score</th>\n",
       "      <th>Segment</th>\n",
       "    </tr>\n",
       "  </thead>\n",
       "  <tbody>\n",
       "    <tr>\n",
       "      <th>0</th>\n",
       "      <td>12346.0</td>\n",
       "      <td>326</td>\n",
       "      <td>17</td>\n",
       "      <td>-64.68</td>\n",
       "      <td>8</td>\n",
       "      <td>Loyal Customers</td>\n",
       "    </tr>\n",
       "    <tr>\n",
       "      <th>1</th>\n",
       "      <td>12347.0</td>\n",
       "      <td>2</td>\n",
       "      <td>8</td>\n",
       "      <td>5633.32</td>\n",
       "      <td>14</td>\n",
       "      <td>Champions</td>\n",
       "    </tr>\n",
       "    <tr>\n",
       "      <th>2</th>\n",
       "      <td>12348.0</td>\n",
       "      <td>75</td>\n",
       "      <td>5</td>\n",
       "      <td>2019.40</td>\n",
       "      <td>10</td>\n",
       "      <td>Champions</td>\n",
       "    </tr>\n",
       "    <tr>\n",
       "      <th>3</th>\n",
       "      <td>12349.0</td>\n",
       "      <td>19</td>\n",
       "      <td>5</td>\n",
       "      <td>4404.54</td>\n",
       "      <td>12</td>\n",
       "      <td>Champions</td>\n",
       "    </tr>\n",
       "    <tr>\n",
       "      <th>4</th>\n",
       "      <td>12350.0</td>\n",
       "      <td>310</td>\n",
       "      <td>1</td>\n",
       "      <td>334.40</td>\n",
       "      <td>5</td>\n",
       "      <td>Promising</td>\n",
       "    </tr>\n",
       "    <tr>\n",
       "      <th>5</th>\n",
       "      <td>12351.0</td>\n",
       "      <td>375</td>\n",
       "      <td>1</td>\n",
       "      <td>300.93</td>\n",
       "      <td>5</td>\n",
       "      <td>Promising</td>\n",
       "    </tr>\n",
       "    <tr>\n",
       "      <th>6</th>\n",
       "      <td>12352.0</td>\n",
       "      <td>36</td>\n",
       "      <td>13</td>\n",
       "      <td>1889.21</td>\n",
       "      <td>13</td>\n",
       "      <td>Champions</td>\n",
       "    </tr>\n",
       "    <tr>\n",
       "      <th>7</th>\n",
       "      <td>12353.0</td>\n",
       "      <td>204</td>\n",
       "      <td>2</td>\n",
       "      <td>406.76</td>\n",
       "      <td>6</td>\n",
       "      <td>Recent Customers</td>\n",
       "    </tr>\n",
       "    <tr>\n",
       "      <th>8</th>\n",
       "      <td>12354.0</td>\n",
       "      <td>232</td>\n",
       "      <td>1</td>\n",
       "      <td>1079.40</td>\n",
       "      <td>6</td>\n",
       "      <td>Recent Customers</td>\n",
       "    </tr>\n",
       "    <tr>\n",
       "      <th>9</th>\n",
       "      <td>12355.0</td>\n",
       "      <td>214</td>\n",
       "      <td>2</td>\n",
       "      <td>947.61</td>\n",
       "      <td>7</td>\n",
       "      <td>Potential Loyalist</td>\n",
       "    </tr>\n",
       "    <tr>\n",
       "      <th>10</th>\n",
       "      <td>12356.0</td>\n",
       "      <td>23</td>\n",
       "      <td>6</td>\n",
       "      <td>6373.68</td>\n",
       "      <td>13</td>\n",
       "      <td>Champions</td>\n",
       "    </tr>\n",
       "    <tr>\n",
       "      <th>11</th>\n",
       "      <td>12357.0</td>\n",
       "      <td>33</td>\n",
       "      <td>3</td>\n",
       "      <td>18287.66</td>\n",
       "      <td>11</td>\n",
       "      <td>Champions</td>\n",
       "    </tr>\n",
       "    <tr>\n",
       "      <th>12</th>\n",
       "      <td>12358.0</td>\n",
       "      <td>2</td>\n",
       "      <td>5</td>\n",
       "      <td>3887.07</td>\n",
       "      <td>13</td>\n",
       "      <td>Champions</td>\n",
       "    </tr>\n",
       "    <tr>\n",
       "      <th>13</th>\n",
       "      <td>12359.0</td>\n",
       "      <td>8</td>\n",
       "      <td>14</td>\n",
       "      <td>8714.89</td>\n",
       "      <td>15</td>\n",
       "      <td>Champions</td>\n",
       "    </tr>\n",
       "    <tr>\n",
       "      <th>14</th>\n",
       "      <td>12360.0</td>\n",
       "      <td>52</td>\n",
       "      <td>9</td>\n",
       "      <td>4212.89</td>\n",
       "      <td>13</td>\n",
       "      <td>Champions</td>\n",
       "    </tr>\n",
       "    <tr>\n",
       "      <th>15</th>\n",
       "      <td>12361.0</td>\n",
       "      <td>287</td>\n",
       "      <td>4</td>\n",
       "      <td>511.25</td>\n",
       "      <td>7</td>\n",
       "      <td>Potential Loyalist</td>\n",
       "    </tr>\n",
       "    <tr>\n",
       "      <th>16</th>\n",
       "      <td>12362.0</td>\n",
       "      <td>3</td>\n",
       "      <td>14</td>\n",
       "      <td>5284.58</td>\n",
       "      <td>15</td>\n",
       "      <td>Champions</td>\n",
       "    </tr>\n",
       "    <tr>\n",
       "      <th>17</th>\n",
       "      <td>12363.0</td>\n",
       "      <td>110</td>\n",
       "      <td>2</td>\n",
       "      <td>552.00</td>\n",
       "      <td>7</td>\n",
       "      <td>Potential Loyalist</td>\n",
       "    </tr>\n",
       "    <tr>\n",
       "      <th>18</th>\n",
       "      <td>12364.0</td>\n",
       "      <td>8</td>\n",
       "      <td>4</td>\n",
       "      <td>1313.10</td>\n",
       "      <td>12</td>\n",
       "      <td>Champions</td>\n",
       "    </tr>\n",
       "    <tr>\n",
       "      <th>19</th>\n",
       "      <td>12365.0</td>\n",
       "      <td>291</td>\n",
       "      <td>3</td>\n",
       "      <td>320.69</td>\n",
       "      <td>6</td>\n",
       "      <td>Recent Customers</td>\n",
       "    </tr>\n",
       "  </tbody>\n",
       "</table>\n",
       "</div>"
      ],
      "text/plain": [
       "    customer_id  Recency  Frequency  Monetary  RFM_Score             Segment\n",
       "0       12346.0      326         17    -64.68          8     Loyal Customers\n",
       "1       12347.0        2          8   5633.32         14           Champions\n",
       "2       12348.0       75          5   2019.40         10           Champions\n",
       "3       12349.0       19          5   4404.54         12           Champions\n",
       "4       12350.0      310          1    334.40          5           Promising\n",
       "5       12351.0      375          1    300.93          5           Promising\n",
       "6       12352.0       36         13   1889.21         13           Champions\n",
       "7       12353.0      204          2    406.76          6    Recent Customers\n",
       "8       12354.0      232          1   1079.40          6    Recent Customers\n",
       "9       12355.0      214          2    947.61          7  Potential Loyalist\n",
       "10      12356.0       23          6   6373.68         13           Champions\n",
       "11      12357.0       33          3  18287.66         11           Champions\n",
       "12      12358.0        2          5   3887.07         13           Champions\n",
       "13      12359.0        8         14   8714.89         15           Champions\n",
       "14      12360.0       52          9   4212.89         13           Champions\n",
       "15      12361.0      287          4    511.25          7  Potential Loyalist\n",
       "16      12362.0        3         14   5284.58         15           Champions\n",
       "17      12363.0      110          2    552.00          7  Potential Loyalist\n",
       "18      12364.0        8          4   1313.10         12           Champions\n",
       "19      12365.0      291          3    320.69          6    Recent Customers"
      ]
     },
     "execution_count": 61,
     "metadata": {},
     "output_type": "execute_result"
    }
   ],
   "source": [
    "rfm_df[['customer_id', 'Recency', 'Frequency', 'Monetary', 'RFM_Score', 'Segment']].head(20)\n"
   ]
  }
 ],
 "metadata": {
  "kernelspec": {
   "display_name": "Python 3",
   "language": "python",
   "name": "python3"
  },
  "language_info": {
   "codemirror_mode": {
    "name": "ipython",
    "version": 3
   },
   "file_extension": ".py",
   "mimetype": "text/x-python",
   "name": "python",
   "nbconvert_exporter": "python",
   "pygments_lexer": "ipython3",
   "version": "3.8.5"
  }
 },
 "nbformat": 4,
 "nbformat_minor": 4
}
